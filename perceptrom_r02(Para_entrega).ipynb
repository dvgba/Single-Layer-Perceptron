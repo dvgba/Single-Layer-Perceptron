{
  "nbformat": 4,
  "nbformat_minor": 0,
  "metadata": {
    "colab": {
      "private_outputs": true,
      "provenance": []
    },
    "kernelspec": {
      "name": "python3",
      "display_name": "Python 3"
    },
    "language_info": {
      "name": "python"
    }
  },
  "cells": [
    {
      "cell_type": "code",
      "source": [
        "import numpy as np\n",
        "import matplotlib.pyplot as plt\n",
        "import matplotlib as mpl\n",
        "from sklearn import datasets\n",
        "import imageio\n",
        "import seaborn as sns\n",
        "import plotly.express as px\n",
        "import plotly.graph_objs as go\n",
        "\n",
        "%matplotlib inline"
      ],
      "metadata": {
        "id": "NekTyIKJ3P36"
      },
      "execution_count": null,
      "outputs": []
    },
    {
      "cell_type": "markdown",
      "source": [
        "## Perceptron de uma camada"
      ],
      "metadata": {
        "id": "XcGn-ce65qRf"
      }
    },
    {
      "cell_type": "code",
      "source": [
        "class Perceptron(object):\n",
        "   def __init__(self, rate = 0.01, niter = 10):\n",
        "      self.rate = rate\n",
        "      self.niter = niter\n",
        "\n",
        "   def fit(self, X, y):\n",
        "      # Pesos\n",
        "      self.weight = np.zeros(1 + X.shape[1])\n",
        "\n",
        "      # Número de classificações incorretas\n",
        "      self.errors = []\n",
        "\n",
        "      for i in range(self.niter):\n",
        "         err = 0\n",
        "         for xi, target in zip(X, y):\n",
        "            delta_w = self.rate * (target - self.predict(xi))\n",
        "            self.weight[1:] += delta_w * xi\n",
        "            self.weight[0] += delta_w\n",
        "            err += int(delta_w != 0.0)\n",
        "         self.errors.append(err)\n",
        "      return self\n",
        "\n",
        "   def net_input(self, X):\n",
        "      # Calcule a entrada líquida\n",
        "      return np.dot(X, self.weight[1:]) + self.weight[0]\n",
        "\n",
        "   def predict(self, X):\n",
        "      # Devolver a etiqueta da classe após a etapa da unidade\n",
        "      return np.where(self.net_input(X) >= 0.0, 1, -1)"
      ],
      "metadata": {
        "id": "4HeuvJH628r-"
      },
      "execution_count": null,
      "outputs": []
    },
    {
      "cell_type": "markdown",
      "source": [
        "#### Pré-processamento do conjunto de dados da Iris"
      ],
      "metadata": {
        "id": "3M5SjcP56Cn6"
      }
    },
    {
      "cell_type": "code",
      "source": [
        "df = pd.read_csv('https://archive.ics.uci.edu/ml/machine-learning-databases/iris/iris.data', header=None)"
      ],
      "metadata": {
        "id": "r0G_sIBV3Fhf"
      },
      "execution_count": null,
      "outputs": []
    },
    {
      "cell_type": "code",
      "source": [
        "df.tail()"
      ],
      "metadata": {
        "id": "w5UVHWde3cyz"
      },
      "execution_count": null,
      "outputs": []
    },
    {
      "cell_type": "markdown",
      "source": [
        "#### Extraindo os primeiros 100 rótulos de classe que correspondem às 50 flores Iris-Setosa e 50 flores Iris-Versicolor"
      ],
      "metadata": {
        "id": "9ajV5GTL6KGr"
      }
    },
    {
      "cell_type": "code",
      "source": [
        "df.iloc[145:150, 0:5]"
      ],
      "metadata": {
        "id": "xYk1Qwdo3IIQ"
      },
      "execution_count": null,
      "outputs": []
    },
    {
      "cell_type": "code",
      "source": [
        "y = df.iloc[0:100, 4].values\n",
        "y"
      ],
      "metadata": {
        "id": "v0TPjqtm38HP"
      },
      "execution_count": null,
      "outputs": []
    },
    {
      "cell_type": "markdown",
      "source": [
        "#### convertendo os rótulos de classe em dois rótulos de classe inteiros 1 Versicolor e -1 *Setosa*"
      ],
      "metadata": {
        "id": "1EVkIf9l6SMM"
      }
    },
    {
      "cell_type": "code",
      "source": [
        "y = np.where(y == 'Iris-setosa', -1, 1)\n",
        "y"
      ],
      "metadata": {
        "id": "vmNQ_ssU4AlI"
      },
      "execution_count": null,
      "outputs": []
    },
    {
      "cell_type": "markdown",
      "source": [
        "#### Extração da primeira coluna de recursos (comprimento da sépala) e a terceira coluna de recursos (comprimento da pétala) das 100 amostras de treinamento"
      ],
      "metadata": {
        "id": "tTOw2zC36g7O"
      }
    },
    {
      "cell_type": "code",
      "source": [
        "X = df.iloc[0:100, [0, 2]].values\n",
        "X"
      ],
      "metadata": {
        "id": "HZK-eZmq4ETY"
      },
      "execution_count": null,
      "outputs": []
    },
    {
      "cell_type": "markdown",
      "source": [
        "#### Visualização do gráfico de dispersão"
      ],
      "metadata": {
        "id": "Aud0tMTh6uLQ"
      }
    },
    {
      "cell_type": "code",
      "source": [
        "plt.scatter(X[:50, 0], X[:50, 1], color='red', marker='o', label='Iris-setosa')\n",
        "plt.scatter(X[50:100, 0], X[50:100, 1], color='blue', marker='x', label='Iris-versicolor')\n",
        "plt.xlabel('petal length')\n",
        "plt.ylabel('sepal length')\n",
        "plt.legend(loc='upper left')\n",
        "plt.show()"
      ],
      "metadata": {
        "id": "5VTjuruZ4Hv4"
      },
      "execution_count": null,
      "outputs": []
    },
    {
      "cell_type": "markdown",
      "source": [
        "#### Treinamento do modelo perceptron"
      ],
      "metadata": {
        "id": "G37TbZeT631R"
      }
    },
    {
      "cell_type": "code",
      "source": [
        "pn = Perceptron(0.1, 10)\n",
        "pn.fit(X, y)\n",
        "plt.plot(range(1, len(pn.errors) + 1), pn.errors, marker='o')\n",
        "plt.xlabel('Epocas')\n",
        "plt.ylabel('Número de classificações incorretas')\n",
        "plt.show()"
      ],
      "metadata": {
        "id": "na9hvwB34Sbr"
      },
      "execution_count": null,
      "outputs": []
    },
    {
      "cell_type": "markdown",
      "source": [
        "#### Visualize os limites de decisão"
      ],
      "metadata": {
        "id": "Y2szZICN7Sem"
      }
    },
    {
      "cell_type": "code",
      "source": [
        "def plot_decision_boundaries(X, y, classifier):\n",
        "    h = .02\n",
        "    x_min, x_max = X[:, 0].min() - 1, X[:, 0].max() + 1\n",
        "    y_min, y_max = X[:, 1].min() - 1, X[:, 1].max() + 1\n",
        "    xx, yy = np.meshgrid(np.arange(x_min, x_max, h), np.arange(y_min, y_max, h))\n",
        "    Z = classifier.predict(np.c_[xx.ravel(), yy.ravel()])\n",
        "    Z = Z.reshape(xx.shape)\n",
        "    s\n",
        "    plt.figure(figsize=(10, 6))\n",
        "    sns.scatterplot(x=X[:, 0], y=X[:, 1], hue=y, palette={-1: 'red', 1: 'blue'}, legend='full', markers=['o', 'x'])\n",
        "    plt.contourf(xx, yy, Z, alpha=0.2, cmap='coolwarm')\n",
        "    plt.xlabel('Largura da Sépala [cm]')\n",
        "    plt.ylabel('Largura da Pétala [cm]')\n",
        "    plt.title('Limites de Decisão')\n",
        "    plt.show()\n",
        "\n",
        "plot_decision_boundaries(X, y, pn)"
      ],
      "metadata": {
        "id": "ZHJlVwaD8DK0"
      },
      "execution_count": null,
      "outputs": []
    },
    {
      "cell_type": "markdown",
      "source": [
        "### Limites de Decisão com Plotly"
      ],
      "metadata": {
        "id": "Vswivo2lA2A-"
      }
    },
    {
      "cell_type": "code",
      "source": [
        "\n",
        "def plot_decision_boundaries(X, y, classifier):\n",
        "    h = .02\n",
        "    x_min, x_max = X[:, 0].min() - 1, X[:, 0].max() + 1\n",
        "    y_min, y_max = X[:, 1].min() - 1, X[:, 1].max() + 1\n",
        "    xx, yy = np.meshgrid(np.arange(x_min, x_max, h), np.arange(y_min, y_max, h))\n",
        "    Z = classifier.predict(np.c_[xx.ravel(), yy.ravel()])\n",
        "    Z = Z.reshape(xx.shape)\n",
        "\n",
        "    df = pd.DataFrame({'sepal length': xx.ravel(), 'petal length': yy.ravel(), 'class': Z.ravel()})\n",
        "\n",
        "    fig = px.scatter(df, x='petal length', y='sepal length', color='class',\n",
        "                     title='Limites de Decisão com Plotly', opacity=0.1,\n",
        "                     color_continuous_scale=px.colors.diverging.RdYlBu)\n",
        "\n",
        "    df_data = pd.DataFrame({'sepal length': X[:, 0], 'petal length': X[:, 1], 'class': y})\n",
        "    fig.add_trace(px.scatter(df_data, x='petal length', y='sepal length', color='class').data[0])\n",
        "\n",
        "    fig.show()\n",
        "\n",
        "plot_decision_boundaries(X, y, pn)"
      ],
      "metadata": {
        "id": "cECG8570AMVx"
      },
      "execution_count": null,
      "outputs": []
    },
    {
      "cell_type": "markdown",
      "source": [
        "#### Limites de Decisão com Plotly Projeção 3d"
      ],
      "metadata": {
        "id": "gqYrwn7ADtNn"
      }
    },
    {
      "cell_type": "code",
      "source": [
        "def plot_decision_boundaries_3d(X, y, classifier):\n",
        "    h = .02\n",
        "    x_min, x_max = X[:, 0].min() - 1, X[:, 0].max() + 1\n",
        "    y_min, y_max = X[:, 1].min() - 1, X[:, 1].max() + 1\n",
        "    xx, yy = np.meshgrid(np.arange(x_min, x_max, h), np.arange(y_min, y_max, h))\n",
        "    Z = classifier.predict(np.c_[xx.ravel(), yy.ravel()])\n",
        "    Z = Z.reshape(xx.shape)\n",
        "\n",
        "\n",
        "    df = pd.DataFrame({'sepal length': xx.ravel(), 'petal length': yy.ravel(), 'class': Z.ravel()})\n",
        "\n",
        "\n",
        "    fig = px.scatter_3d(df, x='petal length', y='sepal length', z='class', color='class',\n",
        "                         title='Limites de Decisão', opacity=0,\n",
        "                         color_continuous_scale=px.colors.diverging.RdYlBu)\n",
        "\n",
        "    df_data = pd.DataFrame({'sepal length': X[:, 0], 'petal length': X[:, 1], 'class': y})\n",
        "    fig.add_trace(px.scatter_3d(df_data, x='petal length', y='sepal length', z='class', color='class').data[0])\n",
        "\n",
        "    fig.show()\n",
        "\n",
        "plot_decision_boundaries_3d(X, y, pn)"
      ],
      "metadata": {
        "id": "iPfWU9lBDY4E"
      },
      "execution_count": null,
      "outputs": []
    }
  ]
}